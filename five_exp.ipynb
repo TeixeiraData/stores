{
 "cells": [
  {
   "cell_type": "code",
   "execution_count": 1,
   "metadata": {},
   "outputs": [],
   "source": [
    "import pandas as pd\n",
    "import numpy as np"
   ]
  },
  {
   "cell_type": "markdown",
   "metadata": {},
   "source": [
    "Return month sales of 5 most expensive products in each product_category"
   ]
  },
  {
   "cell_type": "code",
   "execution_count": 2,
   "metadata": {},
   "outputs": [],
   "source": [
    "chain_a = pd.read_csv(\"csv/chain_a.csv\")\n",
    "chain_b = pd.read_csv(\"csv/chain_b.csv\")\n",
    "chain_c = pd.read_csv(\"csv/chain_c.csv\")\n",
    "m_product = pd.read_csv(\"csv/m.product.csv\")"
   ]
  },
  {
   "cell_type": "code",
   "execution_count": 3,
   "metadata": {},
   "outputs": [
    {
     "data": {
      "text/html": [
       "<div>\n",
       "<style scoped>\n",
       "    .dataframe tbody tr th:only-of-type {\n",
       "        vertical-align: middle;\n",
       "    }\n",
       "\n",
       "    .dataframe tbody tr th {\n",
       "        vertical-align: top;\n",
       "    }\n",
       "\n",
       "    .dataframe thead th {\n",
       "        text-align: right;\n",
       "    }\n",
       "</style>\n",
       "<table border=\"1\" class=\"dataframe\">\n",
       "  <thead>\n",
       "    <tr style=\"text-align: right;\">\n",
       "      <th></th>\n",
       "      <th>Date</th>\n",
       "      <th>store_id</th>\n",
       "      <th>product_id</th>\n",
       "      <th>volume</th>\n",
       "    </tr>\n",
       "  </thead>\n",
       "  <tbody>\n",
       "    <tr>\n",
       "      <th>0</th>\n",
       "      <td>01-01-19</td>\n",
       "      <td>3</td>\n",
       "      <td>104</td>\n",
       "      <td>228</td>\n",
       "    </tr>\n",
       "    <tr>\n",
       "      <th>1</th>\n",
       "      <td>02-01-19</td>\n",
       "      <td>1</td>\n",
       "      <td>114</td>\n",
       "      <td>345</td>\n",
       "    </tr>\n",
       "    <tr>\n",
       "      <th>2</th>\n",
       "      <td>03-01-19</td>\n",
       "      <td>1</td>\n",
       "      <td>110</td>\n",
       "      <td>116</td>\n",
       "    </tr>\n",
       "    <tr>\n",
       "      <th>3</th>\n",
       "      <td>04-01-19</td>\n",
       "      <td>2</td>\n",
       "      <td>103</td>\n",
       "      <td>152</td>\n",
       "    </tr>\n",
       "    <tr>\n",
       "      <th>4</th>\n",
       "      <td>05-01-19</td>\n",
       "      <td>2</td>\n",
       "      <td>111</td>\n",
       "      <td>293</td>\n",
       "    </tr>\n",
       "  </tbody>\n",
       "</table>\n",
       "</div>"
      ],
      "text/plain": [
       "       Date  store_id  product_id  volume\n",
       "0  01-01-19         3         104     228\n",
       "1  02-01-19         1         114     345\n",
       "2  03-01-19         1         110     116\n",
       "3  04-01-19         2         103     152\n",
       "4  05-01-19         2         111     293"
      ]
     },
     "execution_count": 3,
     "metadata": {},
     "output_type": "execute_result"
    }
   ],
   "source": [
    "chain_geral = pd.concat([chain_a, chain_b, chain_c], axis=0)\n",
    "chain_geral.head()"
   ]
  },
  {
   "cell_type": "code",
   "execution_count": 5,
   "metadata": {},
   "outputs": [
    {
     "data": {
      "text/html": [
       "<div>\n",
       "<style scoped>\n",
       "    .dataframe tbody tr th:only-of-type {\n",
       "        vertical-align: middle;\n",
       "    }\n",
       "\n",
       "    .dataframe tbody tr th {\n",
       "        vertical-align: top;\n",
       "    }\n",
       "\n",
       "    .dataframe thead th {\n",
       "        text-align: right;\n",
       "    }\n",
       "</style>\n",
       "<table border=\"1\" class=\"dataframe\">\n",
       "  <thead>\n",
       "    <tr style=\"text-align: right;\">\n",
       "      <th></th>\n",
       "      <th>Date</th>\n",
       "      <th>store_id</th>\n",
       "      <th>product_id</th>\n",
       "      <th>volume</th>\n",
       "      <th>price</th>\n",
       "      <th>product_category</th>\n",
       "      <th>product_name</th>\n",
       "    </tr>\n",
       "  </thead>\n",
       "  <tbody>\n",
       "    <tr>\n",
       "      <th>0</th>\n",
       "      <td>01-01-19</td>\n",
       "      <td>3</td>\n",
       "      <td>104</td>\n",
       "      <td>228</td>\n",
       "      <td>400</td>\n",
       "      <td>Sandwich</td>\n",
       "      <td>Teriyaki Special</td>\n",
       "    </tr>\n",
       "    <tr>\n",
       "      <th>1</th>\n",
       "      <td>02-01-19</td>\n",
       "      <td>1</td>\n",
       "      <td>114</td>\n",
       "      <td>345</td>\n",
       "      <td>180</td>\n",
       "      <td>Chocolte</td>\n",
       "      <td>Blueberry Mix</td>\n",
       "    </tr>\n",
       "    <tr>\n",
       "      <th>2</th>\n",
       "      <td>03-01-19</td>\n",
       "      <td>1</td>\n",
       "      <td>110</td>\n",
       "      <td>116</td>\n",
       "      <td>460</td>\n",
       "      <td>Sandwich</td>\n",
       "      <td>Strawberry Fruit</td>\n",
       "    </tr>\n",
       "    <tr>\n",
       "      <th>3</th>\n",
       "      <td>04-01-19</td>\n",
       "      <td>2</td>\n",
       "      <td>103</td>\n",
       "      <td>152</td>\n",
       "      <td>150</td>\n",
       "      <td>Fruit</td>\n",
       "      <td>Apple</td>\n",
       "    </tr>\n",
       "    <tr>\n",
       "      <th>4</th>\n",
       "      <td>05-01-19</td>\n",
       "      <td>2</td>\n",
       "      <td>111</td>\n",
       "      <td>293</td>\n",
       "      <td>320</td>\n",
       "      <td>Ice Cream</td>\n",
       "      <td>Fruit Mix</td>\n",
       "    </tr>\n",
       "  </tbody>\n",
       "</table>\n",
       "</div>"
      ],
      "text/plain": [
       "       Date  store_id  product_id  volume  price product_category  \\\n",
       "0  01-01-19         3         104     228    400         Sandwich   \n",
       "1  02-01-19         1         114     345    180         Chocolte   \n",
       "2  03-01-19         1         110     116    460         Sandwich   \n",
       "3  04-01-19         2         103     152    150            Fruit   \n",
       "4  05-01-19         2         111     293    320        Ice Cream   \n",
       "\n",
       "       product_name  \n",
       "0  Teriyaki Special  \n",
       "1     Blueberry Mix  \n",
       "2  Strawberry Fruit  \n",
       "3             Apple  \n",
       "4         Fruit Mix  "
      ]
     },
     "execution_count": 5,
     "metadata": {},
     "output_type": "execute_result"
    }
   ],
   "source": [
    "geral_name = pd.merge(chain_geral, m_product, how=\"left\", on=\"product_id\")\n",
    "geral_name.head()"
   ]
  },
  {
   "cell_type": "code",
   "execution_count": null,
   "metadata": {},
   "outputs": [],
   "source": []
  }
 ],
 "metadata": {
  "kernelspec": {
   "display_name": "Python 3.9.4 64-bit",
   "language": "python",
   "name": "python3"
  },
  "language_info": {
   "codemirror_mode": {
    "name": "ipython",
    "version": 3
   },
   "file_extension": ".py",
   "mimetype": "text/x-python",
   "name": "python",
   "nbconvert_exporter": "python",
   "pygments_lexer": "ipython3",
   "version": "3.9.4"
  },
  "orig_nbformat": 4,
  "vscode": {
   "interpreter": {
    "hash": "aee8b7b246df8f9039afb4144a1f6fd8d2ca17a180786b69acc140d282b71a49"
   }
  }
 },
 "nbformat": 4,
 "nbformat_minor": 2
}
